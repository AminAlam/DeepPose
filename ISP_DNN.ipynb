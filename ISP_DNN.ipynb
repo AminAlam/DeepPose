{
  "nbformat": 4,
  "nbformat_minor": 0,
  "metadata": {
    "colab": {
      "name": "ISP_DNN.ipynb",
      "provenance": [],
      "collapsed_sections": []
    },
    "kernelspec": {
      "name": "python3",
      "display_name": "Python 3"
    },
    "language_info": {
      "name": "python"
    }
  },
  "cells": [
    {
      "cell_type": "code",
      "execution_count": 24,
      "metadata": {
        "id": "pDsP8OBiTPRT"
      },
      "outputs": [],
      "source": [
        "import pickle \n",
        "import numpy as np\n",
        "import matplotlib.pyplot as plt\n",
        "import tensorflow as tf\n",
        "import random\n",
        "import scipy.io\n",
        "\n",
        "\n",
        "from keras.models import Sequential\n",
        "from keras.layers import Conv2D, Flatten, MaxPooling2D, Dense, BatchNormalization, Dropout\n"
      ]
    },
    {
      "cell_type": "markdown",
      "source": [
        "### Importing joints locations and images"
      ],
      "metadata": {
        "id": "CQy9uLiPYt5_"
      }
    },
    {
      "cell_type": "code",
      "source": [
        "from google.colab import drive\n",
        "drive.mount('/content/drive')\n",
        "coords_file_name = \"/content/drive/My Drive/Deep/HW02/lsp_dataset/joints.mat\"\n",
        "joints = scipy.io.loadmat(coords_file_name)\n",
        "joints = joints['joints'][:,:]\n",
        "\n",
        "\n",
        "image_list = []\n",
        "for i in range(1,2001):\n",
        "  if i<10:\n",
        "    img_name = \"im000{0}.jpg\".format(i)\n",
        "  elif i<100:\n",
        "    img_name = \"im00{0}.jpg\".format(i)\n",
        "  elif i<1000:\n",
        "    img_name = \"im0{0}.jpg\".format(i)\n",
        "  else:\n",
        "    img_name = \"im{0}.jpg\".format(i)\n",
        "  img = plt.imread(\"/content/drive/My Drive/Deep/HW02/lsp_dataset/images/{0}\".format(img_name))\n",
        "  image_list.append(img)"
      ],
      "metadata": {
        "colab": {
          "base_uri": "https://localhost:8080/"
        },
        "id": "czXmmSWGWHsj",
        "outputId": "f82daf07-349e-4cbd-f73a-17cc2664a3a5"
      },
      "execution_count": 28,
      "outputs": [
        {
          "output_type": "stream",
          "name": "stdout",
          "text": [
            "Drive already mounted at /content/drive; to attempt to forcibly remount, call drive.mount(\"/content/drive\", force_remount=True).\n"
          ]
        }
      ]
    },
    {
      "cell_type": "markdown",
      "source": [
        "### Separating train, test, and validation"
      ],
      "metadata": {
        "id": "4Rgq73PkeNJH"
      }
    },
    {
      "cell_type": "code",
      "source": [
        "X_train = image_list[0:1400]\n",
        "Y_train = joints[:,:,0:1400]\n",
        "\n",
        "X_validation = image_list[1400:1700]\n",
        "Y_validation = joints[:,:,1400:1700]\n",
        "\n",
        "X_test = image_list[1700:]\n",
        "Y_test = joints[:,:,1700:]"
      ],
      "metadata": {
        "id": "4M8VadAMX8iY"
      },
      "execution_count": 40,
      "outputs": []
    },
    {
      "cell_type": "code",
      "source": [
        ""
      ],
      "metadata": {
        "id": "BnfRZ7CfeBfw"
      },
      "execution_count": null,
      "outputs": []
    }
  ]
}